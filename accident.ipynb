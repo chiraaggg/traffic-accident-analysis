import pandas as pd
import matplotlib.pyplot as plt
import seaborn as sns
import folium
from folium.plugins import HeatMap
from IPython.display import display

# Load the dataset
df = pd.read_csv('path_to_your_dataset/car_accident_dataset.csv')

# Display the first few rows of the dataset
print(df.head())

# Check for missing values
print(df.isnull().sum())

# Drop columns with a large number of missing values or irrelevant information
df = df.drop(columns=['Accident_Index', 'Local_Authority_(District)', 'Number_of_Vehicles', 'Police_Force'])

# Handle missing values by dropping rows with missing critical information
df = df.dropna(subset=['Accident_Severity', 'Weather_Conditions', 'Latitude', 'Longitude'])

# Convert date columns to datetime
df['Accident Date'] = pd.to_datetime(df['Accident Date'], format='%m/%d/%Y')

# Display basic information about the dataset
print(df.info())

# Plot the distribution of accidents by day of the week
plt.figure(figsize=(10, 6))
sns.countplot(x='Day_of_Week', data=df)
plt.title('Distribution of Accidents by Day of the Week')
plt.xlabel('Day of the Week')
plt.ylabel('Number of Accidents')
plt.show()

# Plot the distribution of accidents by weather conditions
plt.figure(figsize=(12, 8))
sns.countplot(y='Weather_Conditions', data=df, order=df['Weather_Conditions'].value_counts().iloc[:10].index)
plt.title('Top Weather Conditions for Traffic Accidents')
plt.xlabel('Number of Accidents')
plt.ylabel('Weather Conditions')
plt.show()

# Plot the distribution of accidents by severity
plt.figure(figsize=(10, 6))
sns.countplot(x='Accident_Severity', data=df)
plt.title('Distribution of Accidents by Severity')
plt.xlabel('Accident Severity')
plt.ylabel('Number of Accidents')
plt.show()

# Create a base map
map = folium.Map(location=[df['Latitude'].mean(), df['Longitude'].mean()], zoom_start=5)

# Add a heatmap to the base map
heat_data = [[row['Latitude'], row['Longitude']] for index, row in df.iterrows()]
HeatMap(heat_data).add_to(map)

# Display the map
display(map)

# Correlation matrix
correlation = df[['Latitude', 'Longitude', 'Speed_limit']].corr()

# Plot the correlation matrix
plt.figure(figsize=(8, 6))
sns.heatmap(correlation, annot=True, cmap='coolwarm')
plt.title('Correlation Matrix of Contributing Factors')
plt.show()

# Plot the severity of accidents by speed limit
plt.figure(figsize=(12, 8))
sns.boxplot(x='Accident_Severity', y='Speed_limit', data=df)
plt.title('Severity of Accidents by Speed Limit')
plt.xlabel('Accident Severity')
plt.ylabel('Speed Limit')
plt.show()

# Plot the severity of accidents by latitude
plt.figure(figsize=(12, 8))
sns.boxplot(x='Accident_Severity', y='Latitude', data=df)
plt.title('Severity of Accidents by Latitude')
plt.xlabel('Accident Severity')
plt.ylabel('Latitude')
plt.show()

# Plot the severity of accidents by longitude
plt.figure(figsize=(12, 8))
sns.boxplot(x='Accident_Severity', y='Longitude', data=df)
plt.title('Severity of Accidents by Longitude')
plt.xlabel('Accident Severity')
plt.ylabel('Longitude')
plt.show()
